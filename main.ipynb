{
 "cells": [
  {
   "cell_type": "markdown",
   "id": "ea5f79e5",
   "metadata": {},
   "source": [
    "# Concrete Image Classification\n",
    "By: Anthony Sheu"
   ]
  },
  {
   "cell_type": "markdown",
   "id": "0a4ba233",
   "metadata": {},
   "source": [
    "This project uses a 50/50 split dataset of positive (with cracks) and negative (without cracks) images of concrete. The data was obtained from https://data.mendeley.com/datasets/5y9wdsg2zt/2.\n",
    "\n",
    "This binary classification model aims to be able to guess whether a provided image is positive or negative. Firstly, the images are randomly put in a 80% training, 20% validation split. Then the images will be pre-processed using transformations and finally fed through a pre-built CNN network with transfer learning to only modify the last layer (Resnet 18). The libraries used in this project are Pytorch (for deep learningm models) and torchvision (for transformations, training, and inferencing). The metrics will be tracked using WANDB and further analyzed."
   ]
  },
  {
   "cell_type": "markdown",
   "id": "d69b9659",
   "metadata": {},
   "source": [
    "## Image Processing\n",
    "Below is an image of a NEGATIVE (left) and POSITIVE (right) concrete crack."
   ]
  },
  {
   "cell_type": "code",
   "execution_count": null,
   "id": "c41985fe",
   "metadata": {},
   "outputs": [
    {
     "data": {
      "text/html": [
       "\n",
       "<div style=\"display: flex; gap: 20px; text-align: center;\">\n",
       "  <div>\n",
       "    <img src=\"data/train/Negative/00001.jpg\" width=\"300\"><br>\n",
       "    <strong>Negative</strong>\n",
       "  </div>\n",
       "  <div>\n",
       "    <img src=\"data/train/Positive/00001.jpg\" width=\"300\"><br>\n",
       "    <strong>Positive</strong>\n",
       "  </div>\n",
       "</div>\n"
      ],
      "text/plain": [
       "<IPython.core.display.HTML object>"
      ]
     },
     "metadata": {},
     "output_type": "display_data"
    }
   ],
   "source": [
    "from IPython.display import display, HTML\n",
    "\n",
    "display(HTML(\n",
    "\"\"\"\n",
    "    <div style=\"display: flex; gap: 20px; text-align: center;\">\n",
    "    <div>\n",
    "        <img src=\"data/train/Negative/00001.jpg\" width=\"300\"><br>\n",
    "        <strong>Negative</strong>\n",
    "    </div>\n",
    "    <div>\n",
    "        <img src=\"data/train/Positive/00001.jpg\" width=\"300\"><br>\n",
    "        <strong>Positive</strong>\n",
    "    </div>\n",
    "    </div>\n",
    "\"\"\"\n",
    "))"
   ]
  }
 ],
 "metadata": {
  "kernelspec": {
   "display_name": "Python 3",
   "language": "python",
   "name": "python3"
  },
  "language_info": {
   "codemirror_mode": {
    "name": "ipython",
    "version": 3
   },
   "file_extension": ".py",
   "mimetype": "text/x-python",
   "name": "python",
   "nbconvert_exporter": "python",
   "pygments_lexer": "ipython3",
   "version": "3.13.5"
  }
 },
 "nbformat": 4,
 "nbformat_minor": 5
}
