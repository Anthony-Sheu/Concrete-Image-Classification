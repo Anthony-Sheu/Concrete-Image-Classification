{
 "cells": [
  {
   "cell_type": "markdown",
   "id": "ea5f79e5",
   "metadata": {},
   "source": [
    "# Concrete Image Classification\n",
    "By: Anthony Sheu"
   ]
  },
  {
   "cell_type": "markdown",
   "id": "0a4ba233",
   "metadata": {},
   "source": [
    "This project uses a 50/50 split dataset of positive (with cracks) and negative (without cracks) images of concrete. The data was obtained from https://data.mendeley.com/datasets/5y9wdsg2zt/2.\n",
    "\n",
    "This model aims to be able to classify a provided image as positive or negative. Firstly, the images are randomly put in a 80% training, 20% validation split. Then the images will be pre-processed using transformations and finally fed through a pre-built CNN network with transfer learning to only modify the last layer (Resnet 18)."
   ]
  },
  {
   "cell_type": "markdown",
   "id": "d69b9659",
   "metadata": {},
   "source": [
    "## Image Processing\n"
   ]
  },
  {
   "cell_type": "markdown",
   "id": "c223bad0",
   "metadata": {},
   "source": []
  }
 ],
 "metadata": {
  "language_info": {
   "name": "python"
  }
 },
 "nbformat": 4,
 "nbformat_minor": 5
}
