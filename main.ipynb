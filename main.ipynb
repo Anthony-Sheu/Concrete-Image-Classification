{
 "cells": [
  {
   "cell_type": "markdown",
   "id": "ea5f79e5",
   "metadata": {},
   "source": [
    "# Concrete Image Classification\n",
    "By: Anthony Sheu"
   ]
  },
  {
   "cell_type": "markdown",
   "id": "0a4ba233",
   "metadata": {},
   "source": [
    "This project uses a 50/50 split dataset of positive (with cracks) and negative (without cracks) images of concrete. This model aims to be able to classify a provided image to be positive or negative. "
   ]
  },
  {
   "cell_type": "markdown",
   "id": "d69b9659",
   "metadata": {},
   "source": []
  }
 ],
 "metadata": {
  "language_info": {
   "name": "python"
  }
 },
 "nbformat": 4,
 "nbformat_minor": 5
}
